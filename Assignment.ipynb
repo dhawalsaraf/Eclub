{
  "cells": [
    {
      "attachments": {},
      "cell_type": "markdown",
      "metadata": {
        "id": "Y5y_HbJiPKhA"
      },
      "source": [
        "# Linear Regression\n",
        "## Question 1\n",
        "Make a class called LinearRegression which provides two functions : fit and predict. Try to implement it from scratch. If stuck, refer to the examples folder."
      ]
    },
    {
      "cell_type": "code",
      "execution_count": null,
      "metadata": {
        "id": "gzoG2XilPLFr"
      },
      "outputs": [],
      "source": [
        "def fit(self, X,y):\n",
        "    n_samples, n_features = X.shape\n",
        "    y=y.reshape(-1,1)\n",
        "    self.weight = np.random.randn(n_features,1)/np.sqrt(n_features)\n",
        "    self.bias= np.random.randn(1,1)\n",
        "\n",
        "    for i in range(self.epochs)\n",
        "        z=np.dot(X,self.weight)+self.bias\n",
        "        y_pred=sigmoid(z)\n",
        "\n",
        "        dw=-np.dot(X.T,y-y_pred)/n_samples\n",
        "        db=-np.sum(y-y_ypred)/n_samples\n",
        "\n",
        "        self.weight -= self.lr*dw\n",
        "        self.bias -= self.lr*db\n",
        "\n",
        "def predict(self,X):\n",
        "    z= np.dot(X,self.weight) + self.bias\n",
        "    y= sigmoid(z)\n",
        "    for i in range(len(y))\n",
        "        if(y[i]>0.5):\n",
        "            y[i]=1 \n",
        "        else:\n",
        "            y[i]=0\n",
        "    return y        "
      ]
    },
    {
      "attachments": {},
      "cell_type": "markdown",
      "metadata": {
        "id": "PsqoxNag7D3-"
      },
      "source": [
        "## Question 2\n",
        "\n",
        "Use the dataset https://www.kaggle.com/datasets/quantbruce/real-estate-price-prediction (*).\n",
        "1. Read it using pandas.\n",
        "2. Check for **null values**.\n",
        "3. For each of the columns (except the first and last), plot the column values in the X-axis against the last column of prices in the Y-axis.\n",
        "4. Remove the unwanted columns.\n",
        "5. Split the dataset into train and test data. Test data size = 25% of total dataset.\n",
        "6. **Normalize** the X_train and X_test using MinMaxScaler from sklearn.preprocessing.\n",
        "7. Fit the training data into the model created in question 1 and predict the testing data.\n",
        "8. Use **mean square error and R<sup>2</sup>** from sklearn.metrics as evaluation criterias.\n",
        "9. Fit the training data into the models of the same name provided by sklearn.linear_model and evaluate the predictions using MSE and R<sup>2</sup>.\n",
        "10. Tune the hyperparameters of your models (learning rate, epochs) to achieve losses close to that of the sklearn models.\n",
        "\n",
        "Note : (*) To solve this question, you may proceed in any of the following ways :\n",
        "1. Prepare the notebook in Kaggle, download it and submit it separately with the other questions.\n",
        "2. Download the dataset from kaggle. Upload it to the session storage in Colab.\n",
        "3. Use Colab data directly in Colab. [Refer here](https://www.kaggle.com/general/74235). For this, you need to create kaggle API token. Before submitting, hide or remove the API token."
      ]
    },
    {
      "cell_type": "code",
      "execution_count": null,
      "metadata": {
        "id": "8lupaMcr63QF"
      },
      "outputs": [],
      "source": [
        "import pandas as pd\n"
      ]
    },
    {
      "attachments": {},
      "cell_type": "markdown",
      "metadata": {
        "id": "dQ7lQpy-SYCq"
      },
      "source": [
        "# Logistic Regression\n",
        "## Question 3\n",
        "\n",
        "The breast cancer dataset is a binary classification dataset commonly used in machine learning tasks. It is available in scikit-learn (sklearn) as part of its datasets module.\n",
        "Here is an explanation of the breast cancer dataset's components:\n",
        "\n",
        "* Features (X):\n",
        "\n",
        " * The breast cancer dataset consists of 30 numeric features representing different characteristics of the FNA images. These features include mean, standard error, and worst (largest) values of various attributes such as radius, texture, smoothness, compactness, concavity, symmetry, fractal dimension, etc.\n",
        "\n",
        "* Target (y):\n",
        "\n",
        " * The breast cancer dataset is a binary classification problem, and the target variable (y) represents the diagnosis of the breast mass. It contains two classes:\n",
        "    * 0: Represents a malignant (cancerous) tumor.\n",
        "    * 1: Represents a benign (non-cancerous) tumor.\n",
        "\n",
        "Complete the code given below in place of the \"...\""
      ]
    },
    {
      "attachments": {},
      "cell_type": "markdown",
      "metadata": {
        "id": "auipk-zBpmO-"
      },
      "source": [
        "1. Load the dataset from sklearn.datasets\n",
        "2. Separate out the X and Y columns.\n",
        "3. Normalize the X data using MinMaxScaler or StandardScaler.\n",
        "4. Create a train-test-split. Take any suitable test size."
      ]
    },
    {
      "cell_type": "code",
      "execution_count": null,
      "metadata": {
        "id": "0OyGNHNjFh13"
      },
      "outputs": [],
      "source": [
        "import numpy as np\n",
        "import pandas as pd\n",
        "from sklearn.datasets import load_breast_cancer\n",
        "from sklearn.linear_model import LogisticRegression\n",
        "from sklearn.metrics import accuracy_score, confusion_matrix\n",
        "from sklearn.preprocessing import MinMaxScaler,StandardScaler\n",
        "from sklearn.model_selection import train_test_split\n",
        "\n",
        "scaler=StandardScaler()\n",
        "data= load_breast_cancer()\n",
        "X=data.data\n",
        "y=data.target\n",
        "scaler.fit(X)\n",
        "X= scaler.transform(X)\n",
        "X_train, X_test, y_train, y_test = train_test_split(X,y, train_size=0.75, random_state =2)"
      ]
    },
    {
      "attachments": {},
      "cell_type": "markdown",
      "metadata": {
        "id": "uM-SsSxpqF2o"
      },
      "source": [
        "5. Write code for the sigmoid function and Logistic regression.\n",
        " "
      ]
    },
    {
      "cell_type": "code",
      "execution_count": null,
      "metadata": {
        "id": "o81LA5MZFoTW"
      },
      "outputs": [],
      "source": [
        "class LogR:\n",
        "    def __init__(self,learning_rate,epochs):\n",
        "        self.lr= learning_rate\n",
        "        self.ep= epochs\n",
        "    def fit(self, X,y):\n",
        "        n_samples, n_features = X.shape\n",
        "        y=y.reshape(-1,1)\n",
        "        self.weight = np.random.randn(n_features,1)/np.sqrt(n_features)\n",
        "        self.bias= np.random.randn(1,1)\n",
        "\n",
        "        for i in range(self.ep):\n",
        "            z=np.dot(X,self.weight)+self.bias\n",
        "            y_pred=sigmoid(z)\n",
        "\n",
        "            dw=-np.dot(X.T,y-y_pred)/n_samples\n",
        "            db=-np.sum(y-y_pred)/n_samples\n",
        "\n",
        "            self.weight -= self.lr*dw\n",
        "            self.bias -= self.lr*db\n",
        "\n",
        "    def predict(self,X):\n",
        "        z = np.dot(X,self.weight) + self.bias\n",
        "        y = sigmoid(z)\n",
        "        for i in range(len(y)):\n",
        "            if(y[i]>0.5):\n",
        "                y[i]=1 \n",
        "            else:\n",
        "                y[i]=0\n",
        "        return y  \n"
      ]
    },
    {
      "attachments": {},
      "cell_type": "markdown",
      "metadata": {
        "id": "Uo9LNRMzq4K-"
      },
      "source": [
        "6. Fit your model on the dataset and make predictions.\n",
        "7. Compare your model with the Sklearn Logistic Regression model. Try out all the different penalties.\n",
        "8. Print accuracy_score in each case using sklearn.metrics ."
      ]
    },
    {
      "cell_type": "code",
      "execution_count": null,
      "metadata": {
        "id": "DyGsTTOqFphf"
      },
      "outputs": [],
      "source": [
        "Fun =LogR(learning_rate=0.7, epochs=4500)\n",
        "Fun.fit(X_train,y_train)\n",
        "y_pred=Fun.predict(X_test)\n",
        "\n",
        "LR=LogisticRegression(penalty= None, max_iter=20000)\n",
        "LR.fit(X_train,y_train)\n",
        "y_comp=LR.predict(X_test)\n",
        "\n",
        "print(accuracy_score(y_test,y_pred))\n",
        "print(accuracy_score(y_test,y_comp))"
      ]
    },
    {
      "attachments": {},
      "cell_type": "markdown",
      "metadata": {
        "id": "AGBkzAO5red4"
      },
      "source": [
        "9. For the best model in each case (yours and scikit-learn), print the classification_report using sklearn.metrics .\n",
        "10. For the best model in each case (yours and scikit-learn), print the confusion_matrix using sklearn.metrics ."
      ]
    },
    {
      "cell_type": "code",
      "execution_count": null,
      "metadata": {
        "id": "le-HfABsvnyF"
      },
      "outputs": [],
      "source": [
        "print(confusion_matrix(y_test,y_pred))\n",
        "print(confusion_matrix(y_test,y_comp))\n",
        "\n",
        "from sklearn.metrics import classification_report\n",
        "print(classification_report(y_test,y_pred))\n",
        "print(classification_report(y_test,y_comp))"
      ]
    },
    {
      "attachments": {},
      "cell_type": "markdown",
      "metadata": {
        "id": "6OQ2tSp0MO6n"
      },
      "source": [
        "# KNN \n",
        "## Question 4\n",
        "\n",
        "How accurately can a K-Nearest Neighbors (KNN) model classify different types of glass based on a glass classification dataset consisting of 214 samples and 7 classes? Use the kaggle dataset \"https://www.kaggle.com/datasets/uciml/glass\". \n",
        "\n",
        "Context: This is a Glass Identification Data Set from UCI. It contains 10 attributes including id. The response is glass type(discrete 7 values)"
      ]
    },
    {
      "cell_type": "markdown",
      "metadata": {
        "id": "iMGxbtX-zfsI"
      },
      "source": [
        "1. Load the data as you did in the 2nd question.\n",
        "2. Extract the X and Y columns.\n",
        "3. Split it into training and testing datasets."
      ]
    },
    {
      "cell_type": "code",
      "execution_count": null,
      "metadata": {
        "id": "p0SfLB7pO7_z"
      },
      "outputs": [],
      "source": [
        "import pandas as pd\n",
        "from sklearn.model_selection import train_test_split\n",
        "from collections import Counter\n",
        "import numpy as np\n",
        "\n",
        "df = pd.read_csv(\"C:/Users/dmags/OneDrive/Desktop/study material/Eclub/glass.csv\")\n",
        "x= df.drop(columns='Type')\n",
        "y= df['Type']\n",
        "x_train, x_test, y_train, y_test = train_test_split(x,y,train_size=0.8)\n",
        "\n",
        "def dist(x1,x2):\n",
        "    return np.sqrt(np.sum((x1-x2)**2))\n",
        "class KNN(object):\n",
        "    def __init__(self,k):\n",
        "        self.k=k\n",
        "    def fit(self,x_train, y_train):\n",
        "        self.x_train=x_train\n",
        "        self.y_train=y_train\n",
        "    def predict(self,x_test):\n",
        "        prediction=[self._helper(x) for x in x_test]\n",
        "        return prediction\n",
        "    def _helper(self,x):\n",
        "        proximity=[dist(x,t) for t in x_train]\n",
        "        indx=np.argsort(proximity)[:self.k]\n",
        "        labels=[self.y_train[i] for i in indx]\n",
        "        c=Counter(labels).most_common()\n",
        "        return c[0][0]\n",
        "\n",
        "def accuracy(prediction,y_test):\n",
        "    return np.sum(prediction==y_test)/len(y_test)\n",
        "\n",
        "K=KNN(k=7)\n",
        "x_train=np.array(x_train)\n",
        "y_train=np.array(y_train)\n",
        "x_test=np.array(x_test)\n",
        "y_test=np.array(y_test)\n",
        "\n",
        "K.fit(x_train,y_train)\n",
        "predictions= K.predict(x_test)\n",
        "print(accuracy(predictions,y_test))\n",
        "\n",
        "from sklearn.neighbors import KNeighborsClassifier\n",
        "comp=KNeighborsClassifier()\n",
        "comp.fit(x_train,y_train)\n",
        "y_pred=comp.predict(x_test)\n",
        "print(accuracy(y_pred,y_test))\n"
      ]
    },
    {
      "cell_type": "markdown",
      "metadata": {
        "id": "qtyZJXh9zoh5"
      },
      "source": [
        "4. Define Euclidean distance.\n",
        "5. Build the KNN model.\n",
        "6. Fit the model on the training data. (Note : you may require to change the type of the data from pandas dataframe to numpy arrays. To do that, just do this X=np.array(X) and so on...)"
      ]
    },
    {
      "cell_type": "code",
      "execution_count": null,
      "metadata": {
        "id": "YJkhLORLzn6r"
      },
      "outputs": [],
      "source": []
    },
    {
      "cell_type": "markdown",
      "metadata": {
        "id": "E9rxZpPB0pVS"
      },
      "source": [
        "7. Make predictions. Find their accuracy using accuracy_score. Try different k values. k=3 worked well in our case.\n",
        "8. Compare with the sklearn model (from sklearn.neighbors import KNeighborsClassifier)"
      ]
    },
    {
      "cell_type": "code",
      "execution_count": null,
      "metadata": {
        "id": "ernfjaZJ0pAh"
      },
      "outputs": [],
      "source": []
    },
    {
      "cell_type": "code",
      "execution_count": null,
      "metadata": {
        "id": "h2tZQg4L09wn"
      },
      "outputs": [],
      "source": []
    }
  ],
  "metadata": {
    "colab": {
      "provenance": []
    },
    "kernelspec": {
      "display_name": "Python 3",
      "name": "python3"
    },
    "language_info": {
      "name": "python"
    }
  },
  "nbformat": 4,
  "nbformat_minor": 0
}
